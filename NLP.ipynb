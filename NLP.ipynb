{
 "cells": [
  {
   "cell_type": "code",
   "execution_count": 1,
   "metadata": {},
   "outputs": [],
   "source": [
    "#!pip3 install nltk\n",
    "#!pip3 install textblob\n",
    "\n",
    "\n",
    "#!pip3 install spaCy\n",
    "#!pip3 install gensim\n",
    "#!pip3 install pattern\n",
    "\n",
    "#!pip3 install speechrecognition\n",
    "\n",
    "#!pip3 install https://github.com/explosion/spacy-models/releases/download/en_core_web_sm-2.2.0/en_core_web_sm-2.2.0.tar.gz\n",
    "\n",
    "#!pip3 install speechrecognition\n",
    "#!brew install portaudio\n",
    "#!pip3 install pyaudio"
   ]
  },
  {
   "cell_type": "code",
   "execution_count": 2,
   "metadata": {},
   "outputs": [],
   "source": [
    "from pymongo import MongoClient\n",
    "import pandas as pd\n",
    "import requests"
   ]
  },
  {
   "cell_type": "code",
   "execution_count": 56,
   "metadata": {},
   "outputs": [
    {
     "name": "stderr",
     "output_type": "stream",
     "text": [
      "[nltk_data] Downloading package vader_lexicon to\n",
      "[nltk_data]     /Users/ana/nltk_data...\n",
      "[nltk_data]   Package vader_lexicon is already up-to-date!\n"
     ]
    }
   ],
   "source": [
    "import nltk\n",
    "from nltk.sentiment.vader import SentimentIntensityAnalyzer\n",
    "nltk.downloader.download('vader_lexicon')\n",
    "from nltk.tokenize import RegexpTokenizer\n",
    "from nltk.corpus import stopwords\n",
    "from textblob import TextBlob\n",
    "import spacy\n",
    "from spacy import displacy\n",
    "\n",
    "import tools.sentiments as sent"
   ]
  },
  {
   "cell_type": "code",
   "execution_count": 4,
   "metadata": {},
   "outputs": [
    {
     "name": "stderr",
     "output_type": "stream",
     "text": [
      "/usr/local/lib/python3.8/site-packages/spacy/util.py:275: UserWarning: [W031] Model 'en_core_web_sm' (2.2.0) requires spaCy v2.2 and is incompatible with the current spaCy version (2.3.4). This may lead to unexpected results or runtime errors. To resolve this, download a newer compatible model or retrain your custom model with the current spaCy version. For more details and available updates, run: python -m spacy validate\n",
      "  warnings.warn(warn_msg)\n"
     ]
    }
   ],
   "source": [
    "import en_core_web_sm"
   ]
  },
  {
   "cell_type": "code",
   "execution_count": 5,
   "metadata": {},
   "outputs": [],
   "source": [
    "import speech_recognition as sr \n",
    "import pyaudio"
   ]
  },
  {
   "cell_type": "code",
   "execution_count": 6,
   "metadata": {},
   "outputs": [],
   "source": [
    "client = MongoClient(\"mongodb://localhost/Simpsons\") \n",
    "db = client.get_database()\n",
    "messages_coll = db[\"messages\"]\n",
    "char_coll = db[\"characters\"]\n",
    "group_coll = db[\"chats\"]"
   ]
  },
  {
   "cell_type": "code",
   "execution_count": 11,
   "metadata": {},
   "outputs": [
    {
     "data": {
      "text/html": [
       "<div>\n",
       "<style scoped>\n",
       "    .dataframe tbody tr th:only-of-type {\n",
       "        vertical-align: middle;\n",
       "    }\n",
       "\n",
       "    .dataframe tbody tr th {\n",
       "        vertical-align: top;\n",
       "    }\n",
       "\n",
       "    .dataframe thead th {\n",
       "        text-align: right;\n",
       "    }\n",
       "</style>\n",
       "<table border=\"1\" class=\"dataframe\">\n",
       "  <thead>\n",
       "    <tr style=\"text-align: right;\">\n",
       "      <th></th>\n",
       "      <th>Messages</th>\n",
       "    </tr>\n",
       "  </thead>\n",
       "  <tbody>\n",
       "    <tr>\n",
       "      <th>0</th>\n",
       "      <td>Never thrown a party? What about that big bash...</td>\n",
       "    </tr>\n",
       "    <tr>\n",
       "      <th>1</th>\n",
       "      <td>Bart didn't get one vote?! Oh, this is the wor...</td>\n",
       "    </tr>\n",
       "    <tr>\n",
       "      <th>2</th>\n",
       "      <td>Oh.</td>\n",
       "    </tr>\n",
       "    <tr>\n",
       "      <th>3</th>\n",
       "      <td>And?</td>\n",
       "    </tr>\n",
       "    <tr>\n",
       "      <th>4</th>\n",
       "      <td>Hey, just because I don't care doesn't mean I ...</td>\n",
       "    </tr>\n",
       "  </tbody>\n",
       "</table>\n",
       "</div>"
      ],
      "text/plain": [
       "                                            Messages\n",
       "0  Never thrown a party? What about that big bash...\n",
       "1  Bart didn't get one vote?! Oh, this is the wor...\n",
       "2                                                Oh.\n",
       "3                                               And?\n",
       "4  Hey, just because I don't care doesn't mean I ..."
      ]
     },
     "execution_count": 11,
     "metadata": {},
     "output_type": "execute_result"
    }
   ],
   "source": [
    "simpsonsdf = pd.DataFrame(homer_messages, columns=[\"Messages\"])\n",
    "simpsonsdf.head()"
   ]
  },
  {
   "cell_type": "code",
   "execution_count": 12,
   "metadata": {},
   "outputs": [
    {
     "data": {
      "text/html": [
       "<div>\n",
       "<style scoped>\n",
       "    .dataframe tbody tr th:only-of-type {\n",
       "        vertical-align: middle;\n",
       "    }\n",
       "\n",
       "    .dataframe tbody tr th {\n",
       "        vertical-align: top;\n",
       "    }\n",
       "\n",
       "    .dataframe thead th {\n",
       "        text-align: right;\n",
       "    }\n",
       "</style>\n",
       "<table border=\"1\" class=\"dataframe\">\n",
       "  <thead>\n",
       "    <tr style=\"text-align: right;\">\n",
       "      <th></th>\n",
       "      <th>_id</th>\n",
       "      <th>chat_name</th>\n",
       "      <th>participant_name</th>\n",
       "      <th>message</th>\n",
       "    </tr>\n",
       "  </thead>\n",
       "  <tbody>\n",
       "    <tr>\n",
       "      <th>0</th>\n",
       "      <td>5fc4ee229900a48ad2ee83b0</td>\n",
       "      <td>elementary_school</td>\n",
       "      <td>Miss Hoover</td>\n",
       "      <td>No, actually, it was a little of both. Sometim...</td>\n",
       "    </tr>\n",
       "    <tr>\n",
       "      <th>1</th>\n",
       "      <td>5fc4ee229900a48ad2ee83b1</td>\n",
       "      <td>elementary_school</td>\n",
       "      <td>Miss Hoover</td>\n",
       "      <td>I don't know. Although I'd sure like to talk t...</td>\n",
       "    </tr>\n",
       "    <tr>\n",
       "      <th>2</th>\n",
       "      <td>5fc4ee229900a48ad2ee83b2</td>\n",
       "      <td>elementary_school</td>\n",
       "      <td>Miss Hoover</td>\n",
       "      <td>Thank you, Ralph. Very graphic. Lisa Simpson? ...</td>\n",
       "    </tr>\n",
       "    <tr>\n",
       "      <th>3</th>\n",
       "      <td>5fc4ee229900a48ad2ee83b3</td>\n",
       "      <td>elementary_school</td>\n",
       "      <td>Miss Hoover</td>\n",
       "      <td>Dear God!</td>\n",
       "    </tr>\n",
       "    <tr>\n",
       "      <th>4</th>\n",
       "      <td>5fc4ee229900a48ad2ee83b4</td>\n",
       "      <td>elementary_school</td>\n",
       "      <td>Miss Hoover</td>\n",
       "      <td>I question the educational value of this assem...</td>\n",
       "    </tr>\n",
       "  </tbody>\n",
       "</table>\n",
       "</div>"
      ],
      "text/plain": [
       "                        _id          chat_name participant_name  \\\n",
       "0  5fc4ee229900a48ad2ee83b0  elementary_school      Miss Hoover   \n",
       "1  5fc4ee229900a48ad2ee83b1  elementary_school      Miss Hoover   \n",
       "2  5fc4ee229900a48ad2ee83b2  elementary_school      Miss Hoover   \n",
       "3  5fc4ee229900a48ad2ee83b3  elementary_school      Miss Hoover   \n",
       "4  5fc4ee229900a48ad2ee83b4  elementary_school      Miss Hoover   \n",
       "\n",
       "                                             message  \n",
       "0  No, actually, it was a little of both. Sometim...  \n",
       "1  I don't know. Although I'd sure like to talk t...  \n",
       "2  Thank you, Ralph. Very graphic. Lisa Simpson? ...  \n",
       "3                                          Dear God!  \n",
       "4  I question the educational value of this assem...  "
      ]
     },
     "execution_count": 12,
     "metadata": {},
     "output_type": "execute_result"
    }
   ],
   "source": [
    "todo = pd.DataFrame(list(messages_coll.find()))\n",
    "todo.head()"
   ]
  },
  {
   "cell_type": "code",
   "execution_count": 13,
   "metadata": {},
   "outputs": [],
   "source": [
    "todo = todo[['participant_name', 'chat_name','message']]"
   ]
  },
  {
   "cell_type": "code",
   "execution_count": 14,
   "metadata": {},
   "outputs": [
    {
     "data": {
      "text/html": [
       "<div>\n",
       "<style scoped>\n",
       "    .dataframe tbody tr th:only-of-type {\n",
       "        vertical-align: middle;\n",
       "    }\n",
       "\n",
       "    .dataframe tbody tr th {\n",
       "        vertical-align: top;\n",
       "    }\n",
       "\n",
       "    .dataframe thead th {\n",
       "        text-align: right;\n",
       "    }\n",
       "</style>\n",
       "<table border=\"1\" class=\"dataframe\">\n",
       "  <thead>\n",
       "    <tr style=\"text-align: right;\">\n",
       "      <th></th>\n",
       "      <th>participant_name</th>\n",
       "      <th>chat_name</th>\n",
       "      <th>message</th>\n",
       "    </tr>\n",
       "  </thead>\n",
       "  <tbody>\n",
       "    <tr>\n",
       "      <th>0</th>\n",
       "      <td>Miss Hoover</td>\n",
       "      <td>elementary_school</td>\n",
       "      <td>No, actually, it was a little of both. Sometim...</td>\n",
       "    </tr>\n",
       "    <tr>\n",
       "      <th>1</th>\n",
       "      <td>Miss Hoover</td>\n",
       "      <td>elementary_school</td>\n",
       "      <td>I don't know. Although I'd sure like to talk t...</td>\n",
       "    </tr>\n",
       "    <tr>\n",
       "      <th>2</th>\n",
       "      <td>Miss Hoover</td>\n",
       "      <td>elementary_school</td>\n",
       "      <td>Thank you, Ralph. Very graphic. Lisa Simpson? ...</td>\n",
       "    </tr>\n",
       "    <tr>\n",
       "      <th>3</th>\n",
       "      <td>Miss Hoover</td>\n",
       "      <td>elementary_school</td>\n",
       "      <td>Dear God!</td>\n",
       "    </tr>\n",
       "    <tr>\n",
       "      <th>4</th>\n",
       "      <td>Miss Hoover</td>\n",
       "      <td>elementary_school</td>\n",
       "      <td>I question the educational value of this assem...</td>\n",
       "    </tr>\n",
       "  </tbody>\n",
       "</table>\n",
       "</div>"
      ],
      "text/plain": [
       "  participant_name          chat_name  \\\n",
       "0      Miss Hoover  elementary_school   \n",
       "1      Miss Hoover  elementary_school   \n",
       "2      Miss Hoover  elementary_school   \n",
       "3      Miss Hoover  elementary_school   \n",
       "4      Miss Hoover  elementary_school   \n",
       "\n",
       "                                             message  \n",
       "0  No, actually, it was a little of both. Sometim...  \n",
       "1  I don't know. Although I'd sure like to talk t...  \n",
       "2  Thank you, Ralph. Very graphic. Lisa Simpson? ...  \n",
       "3                                          Dear God!  \n",
       "4  I question the educational value of this assem...  "
      ]
     },
     "execution_count": 14,
     "metadata": {},
     "output_type": "execute_result"
    }
   ],
   "source": [
    "todo.groupby('participant_name')\n",
    "todo.head()"
   ]
  },
  {
   "cell_type": "markdown",
   "metadata": {},
   "source": [
    "NLTK"
   ]
  },
  {
   "cell_type": "markdown",
   "metadata": {},
   "source": [
    "### I write here the function so you can check how it works.\n",
    "\n",
    "```\n",
    "def sentimentAnalysis(sentence):\n",
    "    sia = SentimentIntensityAnalyzer()\n",
    "    polarity = sia.polarity_scores(sentence)\n",
    "    pol = polarity['compound']\n",
    "    return pol\n",
    "```\n"
   ]
  },
  {
   "cell_type": "markdown",
   "metadata": {},
   "source": [
    "### We incorporate a column to our dataframe so we apply the sentimentAnalysis function which let us obtain the polarity  scores compound of each message."
   ]
  },
  {
   "cell_type": "code",
   "execution_count": 17,
   "metadata": {},
   "outputs": [
    {
     "data": {
      "text/html": [
       "<div>\n",
       "<style scoped>\n",
       "    .dataframe tbody tr th:only-of-type {\n",
       "        vertical-align: middle;\n",
       "    }\n",
       "\n",
       "    .dataframe tbody tr th {\n",
       "        vertical-align: top;\n",
       "    }\n",
       "\n",
       "    .dataframe thead th {\n",
       "        text-align: right;\n",
       "    }\n",
       "</style>\n",
       "<table border=\"1\" class=\"dataframe\">\n",
       "  <thead>\n",
       "    <tr style=\"text-align: right;\">\n",
       "      <th></th>\n",
       "      <th>participant_name</th>\n",
       "      <th>chat_name</th>\n",
       "      <th>message</th>\n",
       "      <th>sentiment_compound</th>\n",
       "    </tr>\n",
       "  </thead>\n",
       "  <tbody>\n",
       "    <tr>\n",
       "      <th>0</th>\n",
       "      <td>Miss Hoover</td>\n",
       "      <td>elementary_school</td>\n",
       "      <td>No, actually, it was a little of both. Sometim...</td>\n",
       "      <td>0.0772</td>\n",
       "    </tr>\n",
       "    <tr>\n",
       "      <th>1</th>\n",
       "      <td>Miss Hoover</td>\n",
       "      <td>elementary_school</td>\n",
       "      <td>I don't know. Although I'd sure like to talk t...</td>\n",
       "      <td>0.5859</td>\n",
       "    </tr>\n",
       "    <tr>\n",
       "      <th>2</th>\n",
       "      <td>Miss Hoover</td>\n",
       "      <td>elementary_school</td>\n",
       "      <td>Thank you, Ralph. Very graphic. Lisa Simpson? ...</td>\n",
       "      <td>0.6553</td>\n",
       "    </tr>\n",
       "    <tr>\n",
       "      <th>3</th>\n",
       "      <td>Miss Hoover</td>\n",
       "      <td>elementary_school</td>\n",
       "      <td>Dear God!</td>\n",
       "      <td>0.6114</td>\n",
       "    </tr>\n",
       "    <tr>\n",
       "      <th>4</th>\n",
       "      <td>Miss Hoover</td>\n",
       "      <td>elementary_school</td>\n",
       "      <td>I question the educational value of this assem...</td>\n",
       "      <td>0.3400</td>\n",
       "    </tr>\n",
       "  </tbody>\n",
       "</table>\n",
       "</div>"
      ],
      "text/plain": [
       "  participant_name          chat_name  \\\n",
       "0      Miss Hoover  elementary_school   \n",
       "1      Miss Hoover  elementary_school   \n",
       "2      Miss Hoover  elementary_school   \n",
       "3      Miss Hoover  elementary_school   \n",
       "4      Miss Hoover  elementary_school   \n",
       "\n",
       "                                             message  sentiment_compound  \n",
       "0  No, actually, it was a little of both. Sometim...              0.0772  \n",
       "1  I don't know. Although I'd sure like to talk t...              0.5859  \n",
       "2  Thank you, Ralph. Very graphic. Lisa Simpson? ...              0.6553  \n",
       "3                                          Dear God!              0.6114  \n",
       "4  I question the educational value of this assem...              0.3400  "
      ]
     },
     "execution_count": 17,
     "metadata": {},
     "output_type": "execute_result"
    }
   ],
   "source": [
    "todo['sentiment_compound'] = todo['message'].apply(sent.sentimentAnalysis)\n",
    "todo.head()"
   ]
  },
  {
   "cell_type": "markdown",
   "metadata": {},
   "source": [
    "### We can see the mean of the sentiment_compound for each character."
   ]
  },
  {
   "cell_type": "code",
   "execution_count": 18,
   "metadata": {},
   "outputs": [
    {
     "data": {
      "text/plain": [
       "participant_name\n",
       "Barney Gumble           0.091576\n",
       "Bart Simpson            0.052006\n",
       "C. Montgomery Burns     0.096846\n",
       "Carl Carlson            0.089219\n",
       "Chief Wiggum            0.059382\n",
       "Dr. Julius Hibbert      0.054617\n",
       "Fat Tony                0.088740\n",
       "Goodman Skinner        -0.000675\n",
       "Homer Simpson           0.075905\n",
       "Jimbo Jones             0.059743\n",
       "Lenny Leonard           0.086263\n",
       "Lisa Simpson            0.062032\n",
       "MRS KRABAPPEL           0.000000\n",
       "Maggie Simpson         -0.001166\n",
       "Marge Simpson           0.082378\n",
       "Martin Prince           0.107417\n",
       "Mayor Joe Quimby        0.054295\n",
       "Milhouse Van Houten     0.078111\n",
       "Miss Hoover             0.144571\n",
       "Moe Szyslak             0.092434\n",
       "Ned Flanders            0.115441\n",
       "Nelson Muntz            0.026378\n",
       "Ralph Wiggum            0.058228\n",
       "Rev. Timothy Lovejoy    0.113937\n",
       "Waylon Smithers         0.062927\n",
       "Name: sentiment_compound, dtype: float64"
      ]
     },
     "execution_count": 18,
     "metadata": {},
     "output_type": "execute_result"
    }
   ],
   "source": [
    "todo.groupby(['participant_name'])['sentiment_compound'].mean()"
   ]
  },
  {
   "cell_type": "markdown",
   "metadata": {},
   "source": [
    "### We obtain the messages list"
   ]
  },
  {
   "cell_type": "code",
   "execution_count": 19,
   "metadata": {},
   "outputs": [],
   "source": [
    "mess_lst = todo['message'].tolist()"
   ]
  },
  {
   "cell_type": "code",
   "execution_count": 20,
   "metadata": {},
   "outputs": [],
   "source": [
    "#mess_lst"
   ]
  },
  {
   "cell_type": "markdown",
   "metadata": {},
   "source": [
    "### We obtain the sentiment parameters for each message of the messages list."
   ]
  },
  {
   "cell_type": "code",
   "execution_count": 21,
   "metadata": {},
   "outputs": [],
   "source": [
    "sentiments = {}\n",
    "for mess in mess_lst:\n",
    "    blob = TextBlob(mess)\n",
    "    sentiments[mess] = blob.sentiment\n"
   ]
  },
  {
   "cell_type": "code",
   "execution_count": 54,
   "metadata": {},
   "outputs": [],
   "source": [
    "#sentiments"
   ]
  },
  {
   "cell_type": "markdown",
   "metadata": {},
   "source": [
    "### I write here the function so you can check how it works.\n",
    "\n",
    "```\n",
    "def sentimentsAndPolarity(message):\n",
    "    polarity_and_sentiment_mess = []\n",
    "    for mess in mess_lst:\n",
    "        blob = TextBlob(mess)\n",
    "        polarity_and_sentiment_mess.append({'message': mess,\n",
    "                                           'sentiment': {'polarity': blob.sentiment.polarity, \n",
    "                                                        'subjectivity': blob.sentiment.subjectivity}, \n",
    "                                           'polarity':sia.polarity_scores(mess)})\n",
    "    return polarity_and_sentiment_mess\n",
    "```"
   ]
  },
  {
   "cell_type": "code",
   "execution_count": 40,
   "metadata": {},
   "outputs": [],
   "source": [
    "nlp_list = sent.sentimentsAndPolarity(mess_lst)"
   ]
  },
  {
   "cell_type": "code",
   "execution_count": 41,
   "metadata": {},
   "outputs": [
    {
     "name": "stdout",
     "output_type": "stream",
     "text": [
      "{'message': \"No, actually, it was a little of both. Sometimes when a disease is in all the magazines and all the news shows, it's only natural that you think you have it.\", 'sentiment': {'polarity': -0.021875, 'subjectivity': 0.5}, 'polarity': {'neg': 0.069, 'neu': 0.852, 'pos': 0.079, 'compound': 0.0772}}\n"
     ]
    }
   ],
   "source": [
    "print(nlp_list[0])"
   ]
  },
  {
   "cell_type": "markdown",
   "metadata": {},
   "source": [
    "### Now we introduce the sentiment and polarity fields for each message of the messages collection"
   ]
  },
  {
   "cell_type": "markdown",
   "metadata": {},
   "source": [
    "#### I need to say that because of the huge amount of time it took to create those fileds for the thousands of messages, after more than four hours I obtain the fields for all the messages except for ninety thousand of them (more or less), so, when using the endpoint, there are some information you may not find. (Sorry 🥺)"
   ]
  },
  {
   "cell_type": "code",
   "execution_count": 52,
   "metadata": {},
   "outputs": [],
   "source": [
    "url_nlp = \"http://localhost:5000/new/message/nlp\"\n",
    "for nlp in nlp_list:\n",
    "    requests.post(url_nlp, json=nlp)"
   ]
  }
 ],
 "metadata": {
  "kernelspec": {
   "display_name": "Python 3",
   "language": "python",
   "name": "python3"
  },
  "language_info": {
   "codemirror_mode": {
    "name": "ipython",
    "version": 3
   },
   "file_extension": ".py",
   "mimetype": "text/x-python",
   "name": "python",
   "nbconvert_exporter": "python",
   "pygments_lexer": "ipython3",
   "version": "3.8.5"
  }
 },
 "nbformat": 4,
 "nbformat_minor": 4
}
